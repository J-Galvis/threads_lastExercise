{
 "cells": [
  {
   "cell_type": "code",
   "execution_count": 1,
   "metadata": {},
   "outputs": [],
   "source": [
    "import threading"
   ]
  },
  {
   "cell_type": "markdown",
   "metadata": {},
   "source": [
    "### 1. Calcular la siguiente secuencia con 5 hilos:\n",
    "\n",
    "$$\n",
    "\\sum_{n=1}^{10} 2^n = 2^1 + 2^2 + 2^3 + 2^4 + 2^5 + 2^6 + 2^7 + 2^8 + 2^9 + 2^{10}\n",
    "$$\n"
   ]
  },
  {
   "cell_type": "code",
   "execution_count": 25,
   "metadata": {},
   "outputs": [
    {
     "name": "stdout",
     "output_type": "stream",
     "text": [
      "Calculando 2^2 y 2^9\n",
      "[1026, 516, 264, 144, 96]\n",
      "Result: 2046\n"
     ]
    }
   ],
   "source": [
    "class MyThread(threading.Thread):\n",
    "    def __init__(self, n, pool):\n",
    "        super(MyThread, self).__init__()\n",
    "        self.n = n\n",
    "        self.pool = pool\n",
    "\n",
    "    def run(self):\n",
    "        print(f\"Calculando 2^{self.n+1} y 2^{10-self.n}\")\n",
    "        self.pool.append(pow(2, self.n+1) + pow(2, 10-self.n))\n",
    "\n",
    "\n",
    "\n",
    "if __name__ == \"__main__\":\n",
    "    threads = []\n",
    "    results = []\n",
    "    for i in range(5):\n",
    "        t = MyThread(i, results)\n",
    "        t.start()\n",
    "        threads.append(t)\n",
    "        \n",
    "    for t in threads:\n",
    "        t.join()\n",
    "\n",
    "    sum = 0\n",
    "    print(results)\n",
    "    for num in results:\n",
    "        sum += num\n",
    "\n",
    "    print(f\"Result: {sum}\")"
   ]
  }
 ],
 "metadata": {
  "kernelspec": {
   "display_name": "Python 3",
   "language": "python",
   "name": "python3"
  },
  "language_info": {
   "codemirror_mode": {
    "name": "ipython",
    "version": 3
   },
   "file_extension": ".py",
   "mimetype": "text/x-python",
   "name": "python",
   "nbconvert_exporter": "python",
   "pygments_lexer": "ipython3",
   "version": "3.9.6"
  }
 },
 "nbformat": 4,
 "nbformat_minor": 2
}
